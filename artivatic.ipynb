{
  "nbformat": 4,
  "nbformat_minor": 0,
  "metadata": {
    "colab": {
      "name": "artivatic.ipynb",
      "provenance": []
    },
    "kernelspec": {
      "name": "python3",
      "display_name": "Python 3"
    },
    "language_info": {
      "name": "python"
    }
  },
  "cells": [
    {
      "cell_type": "code",
      "metadata": {
        "id": "asDpxZKNMen5"
      },
      "source": [
        "import pandas as pd\n",
        "import numpy as np\n",
        "import matplotlib.pyplot as plt"
      ],
      "execution_count": 3,
      "outputs": []
    },
    {
      "cell_type": "code",
      "metadata": {
        "colab": {
          "base_uri": "https://localhost:8080/",
          "height": 462
        },
        "id": "XhMPYPkkZJDK",
        "outputId": "dcefb65c-e8fd-4b4a-fb31-18d404bfaf89"
      },
      "source": [
        "df = pd.read_csv('/content/train_indessa.csv')\n",
        "df.head()"
      ],
      "execution_count": 4,
      "outputs": [
        {
          "output_type": "execute_result",
          "data": {
            "text/html": [
              "<div>\n",
              "<style scoped>\n",
              "    .dataframe tbody tr th:only-of-type {\n",
              "        vertical-align: middle;\n",
              "    }\n",
              "\n",
              "    .dataframe tbody tr th {\n",
              "        vertical-align: top;\n",
              "    }\n",
              "\n",
              "    .dataframe thead th {\n",
              "        text-align: right;\n",
              "    }\n",
              "</style>\n",
              "<table border=\"1\" class=\"dataframe\">\n",
              "  <thead>\n",
              "    <tr style=\"text-align: right;\">\n",
              "      <th></th>\n",
              "      <th>member_id</th>\n",
              "      <th>loan_amnt</th>\n",
              "      <th>funded_amnt</th>\n",
              "      <th>funded_amnt_inv</th>\n",
              "      <th>term</th>\n",
              "      <th>batch_enrolled</th>\n",
              "      <th>int_rate</th>\n",
              "      <th>grade</th>\n",
              "      <th>sub_grade</th>\n",
              "      <th>emp_title</th>\n",
              "      <th>emp_length</th>\n",
              "      <th>home_ownership</th>\n",
              "      <th>annual_inc</th>\n",
              "      <th>verification_status</th>\n",
              "      <th>pymnt_plan</th>\n",
              "      <th>desc</th>\n",
              "      <th>purpose</th>\n",
              "      <th>title</th>\n",
              "      <th>zip_code</th>\n",
              "      <th>addr_state</th>\n",
              "      <th>dti</th>\n",
              "      <th>delinq_2yrs</th>\n",
              "      <th>inq_last_6mths</th>\n",
              "      <th>mths_since_last_delinq</th>\n",
              "      <th>mths_since_last_record</th>\n",
              "      <th>open_acc</th>\n",
              "      <th>pub_rec</th>\n",
              "      <th>revol_bal</th>\n",
              "      <th>revol_util</th>\n",
              "      <th>total_acc</th>\n",
              "      <th>initial_list_status</th>\n",
              "      <th>total_rec_int</th>\n",
              "      <th>total_rec_late_fee</th>\n",
              "      <th>recoveries</th>\n",
              "      <th>collection_recovery_fee</th>\n",
              "      <th>collections_12_mths_ex_med</th>\n",
              "      <th>mths_since_last_major_derog</th>\n",
              "      <th>application_type</th>\n",
              "      <th>verification_status_joint</th>\n",
              "      <th>last_week_pay</th>\n",
              "      <th>acc_now_delinq</th>\n",
              "      <th>tot_coll_amt</th>\n",
              "      <th>tot_cur_bal</th>\n",
              "      <th>total_rev_hi_lim</th>\n",
              "      <th>loan_status</th>\n",
              "    </tr>\n",
              "  </thead>\n",
              "  <tbody>\n",
              "    <tr>\n",
              "      <th>0</th>\n",
              "      <td>58189336</td>\n",
              "      <td>14350</td>\n",
              "      <td>14350</td>\n",
              "      <td>14350.0</td>\n",
              "      <td>36 months</td>\n",
              "      <td></td>\n",
              "      <td>19.19</td>\n",
              "      <td>E</td>\n",
              "      <td>E3</td>\n",
              "      <td>clerk</td>\n",
              "      <td>9 years</td>\n",
              "      <td>OWN</td>\n",
              "      <td>28700.0</td>\n",
              "      <td>Source Verified</td>\n",
              "      <td>n</td>\n",
              "      <td>NaN</td>\n",
              "      <td>debt_consolidation</td>\n",
              "      <td>Debt consolidation</td>\n",
              "      <td>349xx</td>\n",
              "      <td>FL</td>\n",
              "      <td>33.88</td>\n",
              "      <td>0.0</td>\n",
              "      <td>1.0</td>\n",
              "      <td>50.0</td>\n",
              "      <td>75.0</td>\n",
              "      <td>14.0</td>\n",
              "      <td>1.0</td>\n",
              "      <td>22515.0</td>\n",
              "      <td>73.1</td>\n",
              "      <td>28.0</td>\n",
              "      <td>f</td>\n",
              "      <td>1173.84</td>\n",
              "      <td>0.0</td>\n",
              "      <td>0.0</td>\n",
              "      <td>0.0</td>\n",
              "      <td>0.0</td>\n",
              "      <td>74.0</td>\n",
              "      <td>INDIVIDUAL</td>\n",
              "      <td>NaN</td>\n",
              "      <td>26th week</td>\n",
              "      <td>0.0</td>\n",
              "      <td>0.0</td>\n",
              "      <td>28699.0</td>\n",
              "      <td>30800.0</td>\n",
              "      <td>0</td>\n",
              "    </tr>\n",
              "    <tr>\n",
              "      <th>1</th>\n",
              "      <td>70011223</td>\n",
              "      <td>4800</td>\n",
              "      <td>4800</td>\n",
              "      <td>4800.0</td>\n",
              "      <td>36 months</td>\n",
              "      <td>BAT1586599</td>\n",
              "      <td>10.99</td>\n",
              "      <td>B</td>\n",
              "      <td>B4</td>\n",
              "      <td>Human Resources Specialist</td>\n",
              "      <td>&lt; 1 year</td>\n",
              "      <td>MORTGAGE</td>\n",
              "      <td>65000.0</td>\n",
              "      <td>Source Verified</td>\n",
              "      <td>n</td>\n",
              "      <td>NaN</td>\n",
              "      <td>home_improvement</td>\n",
              "      <td>Home improvement</td>\n",
              "      <td>209xx</td>\n",
              "      <td>MD</td>\n",
              "      <td>3.64</td>\n",
              "      <td>0.0</td>\n",
              "      <td>1.0</td>\n",
              "      <td>NaN</td>\n",
              "      <td>NaN</td>\n",
              "      <td>6.0</td>\n",
              "      <td>0.0</td>\n",
              "      <td>7624.0</td>\n",
              "      <td>23.2</td>\n",
              "      <td>13.0</td>\n",
              "      <td>w</td>\n",
              "      <td>83.95</td>\n",
              "      <td>0.0</td>\n",
              "      <td>0.0</td>\n",
              "      <td>0.0</td>\n",
              "      <td>0.0</td>\n",
              "      <td>NaN</td>\n",
              "      <td>INDIVIDUAL</td>\n",
              "      <td>NaN</td>\n",
              "      <td>9th week</td>\n",
              "      <td>0.0</td>\n",
              "      <td>0.0</td>\n",
              "      <td>9974.0</td>\n",
              "      <td>32900.0</td>\n",
              "      <td>0</td>\n",
              "    </tr>\n",
              "    <tr>\n",
              "      <th>2</th>\n",
              "      <td>70255675</td>\n",
              "      <td>10000</td>\n",
              "      <td>10000</td>\n",
              "      <td>10000.0</td>\n",
              "      <td>36 months</td>\n",
              "      <td>BAT1586599</td>\n",
              "      <td>7.26</td>\n",
              "      <td>A</td>\n",
              "      <td>A4</td>\n",
              "      <td>Driver</td>\n",
              "      <td>2 years</td>\n",
              "      <td>OWN</td>\n",
              "      <td>45000.0</td>\n",
              "      <td>Not Verified</td>\n",
              "      <td>n</td>\n",
              "      <td>NaN</td>\n",
              "      <td>debt_consolidation</td>\n",
              "      <td>Debt consolidation</td>\n",
              "      <td>447xx</td>\n",
              "      <td>OH</td>\n",
              "      <td>18.42</td>\n",
              "      <td>0.0</td>\n",
              "      <td>0.0</td>\n",
              "      <td>NaN</td>\n",
              "      <td>NaN</td>\n",
              "      <td>5.0</td>\n",
              "      <td>0.0</td>\n",
              "      <td>10877.0</td>\n",
              "      <td>31.2</td>\n",
              "      <td>19.0</td>\n",
              "      <td>w</td>\n",
              "      <td>56.47</td>\n",
              "      <td>0.0</td>\n",
              "      <td>0.0</td>\n",
              "      <td>0.0</td>\n",
              "      <td>0.0</td>\n",
              "      <td>NaN</td>\n",
              "      <td>INDIVIDUAL</td>\n",
              "      <td>NaN</td>\n",
              "      <td>9th week</td>\n",
              "      <td>0.0</td>\n",
              "      <td>65.0</td>\n",
              "      <td>38295.0</td>\n",
              "      <td>34900.0</td>\n",
              "      <td>0</td>\n",
              "    </tr>\n",
              "    <tr>\n",
              "      <th>3</th>\n",
              "      <td>1893936</td>\n",
              "      <td>15000</td>\n",
              "      <td>15000</td>\n",
              "      <td>15000.0</td>\n",
              "      <td>36 months</td>\n",
              "      <td>BAT4808022</td>\n",
              "      <td>19.72</td>\n",
              "      <td>D</td>\n",
              "      <td>D5</td>\n",
              "      <td>Us office of Personnel Management</td>\n",
              "      <td>10+ years</td>\n",
              "      <td>RENT</td>\n",
              "      <td>105000.0</td>\n",
              "      <td>Not Verified</td>\n",
              "      <td>n</td>\n",
              "      <td>&gt; My goal is to obtain a loan to pay off my hi...</td>\n",
              "      <td>debt_consolidation</td>\n",
              "      <td>Debt consolidation</td>\n",
              "      <td>221xx</td>\n",
              "      <td>VA</td>\n",
              "      <td>14.97</td>\n",
              "      <td>0.0</td>\n",
              "      <td>2.0</td>\n",
              "      <td>46.0</td>\n",
              "      <td>NaN</td>\n",
              "      <td>10.0</td>\n",
              "      <td>0.0</td>\n",
              "      <td>13712.0</td>\n",
              "      <td>55.5</td>\n",
              "      <td>21.0</td>\n",
              "      <td>f</td>\n",
              "      <td>4858.62</td>\n",
              "      <td>0.0</td>\n",
              "      <td>0.0</td>\n",
              "      <td>0.0</td>\n",
              "      <td>0.0</td>\n",
              "      <td>NaN</td>\n",
              "      <td>INDIVIDUAL</td>\n",
              "      <td>NaN</td>\n",
              "      <td>135th week</td>\n",
              "      <td>0.0</td>\n",
              "      <td>0.0</td>\n",
              "      <td>55564.0</td>\n",
              "      <td>24700.0</td>\n",
              "      <td>0</td>\n",
              "    </tr>\n",
              "    <tr>\n",
              "      <th>4</th>\n",
              "      <td>7652106</td>\n",
              "      <td>16000</td>\n",
              "      <td>16000</td>\n",
              "      <td>16000.0</td>\n",
              "      <td>36 months</td>\n",
              "      <td>BAT2833642</td>\n",
              "      <td>10.64</td>\n",
              "      <td>B</td>\n",
              "      <td>B2</td>\n",
              "      <td>LAUSD-HOLLYWOOD HIGH SCHOOL</td>\n",
              "      <td>10+ years</td>\n",
              "      <td>RENT</td>\n",
              "      <td>52000.0</td>\n",
              "      <td>Verified</td>\n",
              "      <td>n</td>\n",
              "      <td>NaN</td>\n",
              "      <td>credit_card</td>\n",
              "      <td>refi</td>\n",
              "      <td>900xx</td>\n",
              "      <td>CA</td>\n",
              "      <td>20.16</td>\n",
              "      <td>0.0</td>\n",
              "      <td>0.0</td>\n",
              "      <td>NaN</td>\n",
              "      <td>NaN</td>\n",
              "      <td>11.0</td>\n",
              "      <td>0.0</td>\n",
              "      <td>35835.0</td>\n",
              "      <td>76.2</td>\n",
              "      <td>27.0</td>\n",
              "      <td>w</td>\n",
              "      <td>2296.41</td>\n",
              "      <td>0.0</td>\n",
              "      <td>0.0</td>\n",
              "      <td>0.0</td>\n",
              "      <td>0.0</td>\n",
              "      <td>NaN</td>\n",
              "      <td>INDIVIDUAL</td>\n",
              "      <td>NaN</td>\n",
              "      <td>96th week</td>\n",
              "      <td>0.0</td>\n",
              "      <td>0.0</td>\n",
              "      <td>47159.0</td>\n",
              "      <td>47033.0</td>\n",
              "      <td>0</td>\n",
              "    </tr>\n",
              "  </tbody>\n",
              "</table>\n",
              "</div>"
            ],
            "text/plain": [
              "   member_id  loan_amnt  ...  total_rev_hi_lim  loan_status\n",
              "0   58189336      14350  ...           30800.0            0\n",
              "1   70011223       4800  ...           32900.0            0\n",
              "2   70255675      10000  ...           34900.0            0\n",
              "3    1893936      15000  ...           24700.0            0\n",
              "4    7652106      16000  ...           47033.0            0\n",
              "\n",
              "[5 rows x 45 columns]"
            ]
          },
          "metadata": {
            "tags": []
          },
          "execution_count": 4
        }
      ]
    },
    {
      "cell_type": "code",
      "metadata": {
        "colab": {
          "base_uri": "https://localhost:8080/"
        },
        "id": "AmZRLQuoZSaD",
        "outputId": "6a5c8692-e3b3-4bb4-89df-41abfe13317c"
      },
      "source": [
        "df.info()"
      ],
      "execution_count": 5,
      "outputs": [
        {
          "output_type": "stream",
          "text": [
            "<class 'pandas.core.frame.DataFrame'>\n",
            "RangeIndex: 532428 entries, 0 to 532427\n",
            "Data columns (total 45 columns):\n",
            " #   Column                       Non-Null Count   Dtype  \n",
            "---  ------                       --------------   -----  \n",
            " 0   member_id                    532428 non-null  int64  \n",
            " 1   loan_amnt                    532428 non-null  int64  \n",
            " 2   funded_amnt                  532428 non-null  int64  \n",
            " 3   funded_amnt_inv              532428 non-null  float64\n",
            " 4   term                         532428 non-null  object \n",
            " 5   batch_enrolled               447279 non-null  object \n",
            " 6   int_rate                     532428 non-null  float64\n",
            " 7   grade                        532428 non-null  object \n",
            " 8   sub_grade                    532428 non-null  object \n",
            " 9   emp_title                    501595 non-null  object \n",
            " 10  emp_length                   505537 non-null  object \n",
            " 11  home_ownership               532428 non-null  object \n",
            " 12  annual_inc                   532425 non-null  float64\n",
            " 13  verification_status          532428 non-null  object \n",
            " 14  pymnt_plan                   532428 non-null  object \n",
            " 15  desc                         75599 non-null   object \n",
            " 16  purpose                      532428 non-null  object \n",
            " 17  title                        532338 non-null  object \n",
            " 18  zip_code                     532428 non-null  object \n",
            " 19  addr_state                   532428 non-null  object \n",
            " 20  dti                          532428 non-null  float64\n",
            " 21  delinq_2yrs                  532412 non-null  float64\n",
            " 22  inq_last_6mths               532412 non-null  float64\n",
            " 23  mths_since_last_delinq       259874 non-null  float64\n",
            " 24  mths_since_last_record       82123 non-null   float64\n",
            " 25  open_acc                     532412 non-null  float64\n",
            " 26  pub_rec                      532412 non-null  float64\n",
            " 27  revol_bal                    532428 non-null  float64\n",
            " 28  revol_util                   532141 non-null  float64\n",
            " 29  total_acc                    532412 non-null  float64\n",
            " 30  initial_list_status          532428 non-null  object \n",
            " 31  total_rec_int                532428 non-null  float64\n",
            " 32  total_rec_late_fee           532428 non-null  float64\n",
            " 33  recoveries                   532428 non-null  float64\n",
            " 34  collection_recovery_fee      532428 non-null  float64\n",
            " 35  collections_12_mths_ex_med   532333 non-null  float64\n",
            " 36  mths_since_last_major_derog  132980 non-null  float64\n",
            " 37  application_type             532428 non-null  object \n",
            " 38  verification_status_joint    305 non-null     object \n",
            " 39  last_week_pay                532428 non-null  object \n",
            " 40  acc_now_delinq               532412 non-null  float64\n",
            " 41  tot_coll_amt                 490424 non-null  float64\n",
            " 42  tot_cur_bal                  490424 non-null  float64\n",
            " 43  total_rev_hi_lim             490424 non-null  float64\n",
            " 44  loan_status                  532428 non-null  int64  \n",
            "dtypes: float64(23), int64(4), object(18)\n",
            "memory usage: 182.8+ MB\n"
          ],
          "name": "stdout"
        }
      ]
    },
    {
      "cell_type": "code",
      "metadata": {
        "colab": {
          "base_uri": "https://localhost:8080/"
        },
        "id": "5Fk6sqXrZ6k2",
        "outputId": "5d6eeb47-9b83-4344-e739-14028e27fd47"
      },
      "source": [
        "df['loan_status'].value_counts()"
      ],
      "execution_count": 6,
      "outputs": [
        {
          "output_type": "execute_result",
          "data": {
            "text/plain": [
              "0    406601\n",
              "1    125827\n",
              "Name: loan_status, dtype: int64"
            ]
          },
          "metadata": {
            "tags": []
          },
          "execution_count": 6
        }
      ]
    },
    {
      "cell_type": "code",
      "metadata": {
        "id": "Fr6A3tPSkXG6"
      },
      "source": [
        "df1 = df[['member_id','loan_amnt', 'int_rate', 'home_ownership', 'annual_inc', 'purpose', 'dti', 'addr_state', 'revol_util', 'revol_bal', 'total_acc', 'total_rec_int', 'application_type', 'tot_cur_bal', 'total_rev_hi_lim', 'loan_status']]"
      ],
      "execution_count": 14,
      "outputs": []
    },
    {
      "cell_type": "code",
      "metadata": {
        "colab": {
          "base_uri": "https://localhost:8080/"
        },
        "id": "PaR0H2T1kXem",
        "outputId": "6047b7ca-69a2-417e-a1a5-557e6d653e95"
      },
      "source": [
        "df1 = df1.dropna()\n",
        "df1.shape"
      ],
      "execution_count": 15,
      "outputs": [
        {
          "output_type": "execute_result",
          "data": {
            "text/plain": [
              "(490207, 16)"
            ]
          },
          "metadata": {
            "tags": []
          },
          "execution_count": 15
        }
      ]
    },
    {
      "cell_type": "code",
      "metadata": {
        "id": "8PN0rYvPtG-J"
      },
      "source": [
        "from sklearn.preprocessing import LabelEncoder\n",
        "labelencoder = LabelEncoder()\n",
        "df1['home_ownership'] = labelencoder.fit_transform(df1['home_ownership'])\n",
        "df1['purpose'] = labelencoder.fit_transform(df1['purpose'])\n",
        "df1['addr_state'] = labelencoder.fit_transform(df1['addr_state'])\n",
        "df1['application_type'] = labelencoder.fit_transform(df1['application_type'])"
      ],
      "execution_count": 16,
      "outputs": []
    },
    {
      "cell_type": "code",
      "metadata": {
        "colab": {
          "base_uri": "https://localhost:8080/",
          "height": 224
        },
        "id": "AGY7azoOwIyP",
        "outputId": "a9f94d5a-e33c-4735-bf4c-213c938ca2e5"
      },
      "source": [
        "df1.tail()"
      ],
      "execution_count": 8,
      "outputs": [
        {
          "output_type": "execute_result",
          "data": {
            "text/html": [
              "<div>\n",
              "<style scoped>\n",
              "    .dataframe tbody tr th:only-of-type {\n",
              "        vertical-align: middle;\n",
              "    }\n",
              "\n",
              "    .dataframe tbody tr th {\n",
              "        vertical-align: top;\n",
              "    }\n",
              "\n",
              "    .dataframe thead th {\n",
              "        text-align: right;\n",
              "    }\n",
              "</style>\n",
              "<table border=\"1\" class=\"dataframe\">\n",
              "  <thead>\n",
              "    <tr style=\"text-align: right;\">\n",
              "      <th></th>\n",
              "      <th>loan_amnt</th>\n",
              "      <th>int_rate</th>\n",
              "      <th>home_ownership</th>\n",
              "      <th>annual_inc</th>\n",
              "      <th>purpose</th>\n",
              "      <th>dti</th>\n",
              "      <th>addr_state</th>\n",
              "      <th>revol_util</th>\n",
              "      <th>revol_bal</th>\n",
              "      <th>total_acc</th>\n",
              "      <th>total_rec_int</th>\n",
              "      <th>application_type</th>\n",
              "      <th>tot_cur_bal</th>\n",
              "      <th>total_rev_hi_lim</th>\n",
              "      <th>loan_status</th>\n",
              "    </tr>\n",
              "  </thead>\n",
              "  <tbody>\n",
              "    <tr>\n",
              "      <th>532423</th>\n",
              "      <td>20000</td>\n",
              "      <td>12.49</td>\n",
              "      <td>1</td>\n",
              "      <td>75000.0</td>\n",
              "      <td>2</td>\n",
              "      <td>14.53</td>\n",
              "      <td>22</td>\n",
              "      <td>63.6</td>\n",
              "      <td>15775.0</td>\n",
              "      <td>34.0</td>\n",
              "      <td>2595.45</td>\n",
              "      <td>0</td>\n",
              "      <td>83087.0</td>\n",
              "      <td>24800.0</td>\n",
              "      <td>0</td>\n",
              "    </tr>\n",
              "    <tr>\n",
              "      <th>532424</th>\n",
              "      <td>12000</td>\n",
              "      <td>14.99</td>\n",
              "      <td>1</td>\n",
              "      <td>59000.0</td>\n",
              "      <td>2</td>\n",
              "      <td>22.97</td>\n",
              "      <td>22</td>\n",
              "      <td>53.1</td>\n",
              "      <td>9453.0</td>\n",
              "      <td>29.0</td>\n",
              "      <td>2182.92</td>\n",
              "      <td>0</td>\n",
              "      <td>227812.0</td>\n",
              "      <td>17800.0</td>\n",
              "      <td>0</td>\n",
              "    </tr>\n",
              "    <tr>\n",
              "      <th>532425</th>\n",
              "      <td>18725</td>\n",
              "      <td>20.80</td>\n",
              "      <td>5</td>\n",
              "      <td>42504.0</td>\n",
              "      <td>2</td>\n",
              "      <td>27.27</td>\n",
              "      <td>42</td>\n",
              "      <td>49.9</td>\n",
              "      <td>12085.0</td>\n",
              "      <td>26.0</td>\n",
              "      <td>645.32</td>\n",
              "      <td>0</td>\n",
              "      <td>26010.0</td>\n",
              "      <td>24200.0</td>\n",
              "      <td>1</td>\n",
              "    </tr>\n",
              "    <tr>\n",
              "      <th>532426</th>\n",
              "      <td>21000</td>\n",
              "      <td>16.29</td>\n",
              "      <td>5</td>\n",
              "      <td>50000.0</td>\n",
              "      <td>1</td>\n",
              "      <td>14.91</td>\n",
              "      <td>35</td>\n",
              "      <td>89.7</td>\n",
              "      <td>20902.0</td>\n",
              "      <td>14.0</td>\n",
              "      <td>4619.79</td>\n",
              "      <td>0</td>\n",
              "      <td>29197.0</td>\n",
              "      <td>23300.0</td>\n",
              "      <td>0</td>\n",
              "    </tr>\n",
              "    <tr>\n",
              "      <th>532427</th>\n",
              "      <td>10000</td>\n",
              "      <td>6.39</td>\n",
              "      <td>5</td>\n",
              "      <td>53000.0</td>\n",
              "      <td>2</td>\n",
              "      <td>17.80</td>\n",
              "      <td>4</td>\n",
              "      <td>46.4</td>\n",
              "      <td>10058.0</td>\n",
              "      <td>20.0</td>\n",
              "      <td>467.52</td>\n",
              "      <td>0</td>\n",
              "      <td>47866.0</td>\n",
              "      <td>21700.0</td>\n",
              "      <td>0</td>\n",
              "    </tr>\n",
              "  </tbody>\n",
              "</table>\n",
              "</div>"
            ],
            "text/plain": [
              "        loan_amnt  int_rate  ...  total_rev_hi_lim  loan_status\n",
              "532423      20000     12.49  ...           24800.0            0\n",
              "532424      12000     14.99  ...           17800.0            0\n",
              "532425      18725     20.80  ...           24200.0            1\n",
              "532426      21000     16.29  ...           23300.0            0\n",
              "532427      10000      6.39  ...           21700.0            0\n",
              "\n",
              "[5 rows x 15 columns]"
            ]
          },
          "metadata": {
            "tags": []
          },
          "execution_count": 8
        }
      ]
    },
    {
      "cell_type": "code",
      "metadata": {
        "colab": {
          "base_uri": "https://localhost:8080/"
        },
        "id": "xawZVFjdwRPs",
        "outputId": "8a7637da-f93b-426a-eb0f-94effcd1ec27"
      },
      "source": [
        "df1['loan_status'].value_counts()"
      ],
      "execution_count": 17,
      "outputs": [
        {
          "output_type": "execute_result",
          "data": {
            "text/plain": [
              "0    397758\n",
              "1     92449\n",
              "Name: loan_status, dtype: int64"
            ]
          },
          "metadata": {
            "tags": []
          },
          "execution_count": 17
        }
      ]
    },
    {
      "cell_type": "code",
      "metadata": {
        "id": "ByA5G8YHiMyN"
      },
      "source": [
        "df1 = df1.sample(frac = 1)\n",
        "df1 = df1.reset_index(drop=True)"
      ],
      "execution_count": 18,
      "outputs": []
    },
    {
      "cell_type": "code",
      "metadata": {
        "id": "p29MpoAeryPo"
      },
      "source": [
        "data0 = df1.loc[df1['loan_status'] == 0]\n",
        "data1 = df1.loc[df1['loan_status'] == 1]"
      ],
      "execution_count": 19,
      "outputs": []
    },
    {
      "cell_type": "code",
      "metadata": {
        "id": "ODd9JajX5HGw"
      },
      "source": [
        "data0 = data0.head(100000)\n",
        "df2 = data0.append(data1)"
      ],
      "execution_count": 20,
      "outputs": []
    },
    {
      "cell_type": "code",
      "metadata": {
        "colab": {
          "base_uri": "https://localhost:8080/"
        },
        "id": "3JxuUxVM5HNk",
        "outputId": "5ac75393-0df7-4303-94e2-1f71b7c260cb"
      },
      "source": [
        "df2 = df2.sample(frac = 1)\n",
        "df2 = df2.reset_index(drop=True)\n",
        "df2.shape"
      ],
      "execution_count": 21,
      "outputs": [
        {
          "output_type": "execute_result",
          "data": {
            "text/plain": [
              "(192449, 16)"
            ]
          },
          "metadata": {
            "tags": []
          },
          "execution_count": 21
        }
      ]
    },
    {
      "cell_type": "code",
      "metadata": {
        "id": "ASgXZaYCYjyM"
      },
      "source": [
        "train = df1.iloc[:150000]\n",
        "# test = df1.iloc[250000:350000]\n",
        "val = df1.iloc[150000:]"
      ],
      "execution_count": 22,
      "outputs": []
    },
    {
      "cell_type": "code",
      "metadata": {
        "id": "tZeNc7qp2jbZ"
      },
      "source": [
        "x_train = train.iloc[:,:-1]\n",
        "y_train = train.iloc[:,-1:]\n",
        "\n",
        "# x_test = test.iloc[:,:-1]\n",
        "# y_test = test.iloc[:,-1:]\n",
        "\n",
        "x_val = val.iloc[:,:-1]\n",
        "y_val = val.iloc[:,-1:]"
      ],
      "execution_count": 23,
      "outputs": []
    },
    {
      "cell_type": "code",
      "metadata": {
        "id": "aj9oVmay3ZHZ"
      },
      "source": [
        "x_train = x_train.values\n",
        "y_train = y_train.values\n",
        "# x_test = x_test.values\n",
        "# y_test = y_test.values\n",
        "x_val = x_val.values\n",
        "y_val = y_val.values"
      ],
      "execution_count": 24,
      "outputs": []
    },
    {
      "cell_type": "code",
      "metadata": {
        "colab": {
          "base_uri": "https://localhost:8080/",
          "height": 224
        },
        "id": "A2X5cZiMABKK",
        "outputId": "81c58e8e-b830-452e-9de3-f6948c3f7345"
      },
      "source": [
        "test_df = pd.read_csv('/content/test_indessa.csv')\n",
        "test = test_df[['member_id', 'loan_amnt', 'int_rate', 'home_ownership', 'annual_inc', 'purpose', 'dti', 'addr_state', 'revol_util', 'revol_bal', 'total_acc', 'total_rec_int', 'application_type', 'tot_cur_bal', 'total_rev_hi_lim']]\n",
        "test.head()"
      ],
      "execution_count": 35,
      "outputs": [
        {
          "output_type": "execute_result",
          "data": {
            "text/html": [
              "<div>\n",
              "<style scoped>\n",
              "    .dataframe tbody tr th:only-of-type {\n",
              "        vertical-align: middle;\n",
              "    }\n",
              "\n",
              "    .dataframe tbody tr th {\n",
              "        vertical-align: top;\n",
              "    }\n",
              "\n",
              "    .dataframe thead th {\n",
              "        text-align: right;\n",
              "    }\n",
              "</style>\n",
              "<table border=\"1\" class=\"dataframe\">\n",
              "  <thead>\n",
              "    <tr style=\"text-align: right;\">\n",
              "      <th></th>\n",
              "      <th>member_id</th>\n",
              "      <th>loan_amnt</th>\n",
              "      <th>int_rate</th>\n",
              "      <th>home_ownership</th>\n",
              "      <th>annual_inc</th>\n",
              "      <th>purpose</th>\n",
              "      <th>dti</th>\n",
              "      <th>addr_state</th>\n",
              "      <th>revol_util</th>\n",
              "      <th>revol_bal</th>\n",
              "      <th>total_acc</th>\n",
              "      <th>total_rec_int</th>\n",
              "      <th>application_type</th>\n",
              "      <th>tot_cur_bal</th>\n",
              "      <th>total_rev_hi_lim</th>\n",
              "    </tr>\n",
              "  </thead>\n",
              "  <tbody>\n",
              "    <tr>\n",
              "      <th>0</th>\n",
              "      <td>11937648</td>\n",
              "      <td>14000</td>\n",
              "      <td>16.24</td>\n",
              "      <td>RENT</td>\n",
              "      <td>73500.0</td>\n",
              "      <td>credit_card</td>\n",
              "      <td>28.65</td>\n",
              "      <td>OH</td>\n",
              "      <td>65.3</td>\n",
              "      <td>29828</td>\n",
              "      <td>53.0</td>\n",
              "      <td>3915.61</td>\n",
              "      <td>INDIVIDUAL</td>\n",
              "      <td>85230.0</td>\n",
              "      <td>45700.0</td>\n",
              "    </tr>\n",
              "    <tr>\n",
              "      <th>1</th>\n",
              "      <td>38983318</td>\n",
              "      <td>16000</td>\n",
              "      <td>9.49</td>\n",
              "      <td>MORTGAGE</td>\n",
              "      <td>105000.0</td>\n",
              "      <td>major_purchase</td>\n",
              "      <td>31.19</td>\n",
              "      <td>NC</td>\n",
              "      <td>19.4</td>\n",
              "      <td>4161</td>\n",
              "      <td>63.0</td>\n",
              "      <td>1495.06</td>\n",
              "      <td>INDIVIDUAL</td>\n",
              "      <td>444991.0</td>\n",
              "      <td>21400.0</td>\n",
              "    </tr>\n",
              "    <tr>\n",
              "      <th>2</th>\n",
              "      <td>27999917</td>\n",
              "      <td>11050</td>\n",
              "      <td>15.61</td>\n",
              "      <td>RENT</td>\n",
              "      <td>62300.0</td>\n",
              "      <td>debt_consolidation</td>\n",
              "      <td>21.73</td>\n",
              "      <td>KS</td>\n",
              "      <td>74.0</td>\n",
              "      <td>12064</td>\n",
              "      <td>20.0</td>\n",
              "      <td>2096.21</td>\n",
              "      <td>INDIVIDUAL</td>\n",
              "      <td>105737.0</td>\n",
              "      <td>16300.0</td>\n",
              "    </tr>\n",
              "    <tr>\n",
              "      <th>3</th>\n",
              "      <td>61514932</td>\n",
              "      <td>35000</td>\n",
              "      <td>12.69</td>\n",
              "      <td>OWN</td>\n",
              "      <td>150000.0</td>\n",
              "      <td>debt_consolidation</td>\n",
              "      <td>17.27</td>\n",
              "      <td>CA</td>\n",
              "      <td>45.0</td>\n",
              "      <td>32549</td>\n",
              "      <td>26.0</td>\n",
              "      <td>1756.31</td>\n",
              "      <td>INDIVIDUAL</td>\n",
              "      <td>287022.0</td>\n",
              "      <td>72400.0</td>\n",
              "    </tr>\n",
              "    <tr>\n",
              "      <th>4</th>\n",
              "      <td>59622821</td>\n",
              "      <td>6500</td>\n",
              "      <td>6.89</td>\n",
              "      <td>MORTGAGE</td>\n",
              "      <td>52000.0</td>\n",
              "      <td>major_purchase</td>\n",
              "      <td>20.19</td>\n",
              "      <td>LA</td>\n",
              "      <td>19.2</td>\n",
              "      <td>5133</td>\n",
              "      <td>36.0</td>\n",
              "      <td>172.21</td>\n",
              "      <td>INDIVIDUAL</td>\n",
              "      <td>234278.0</td>\n",
              "      <td>26700.0</td>\n",
              "    </tr>\n",
              "  </tbody>\n",
              "</table>\n",
              "</div>"
            ],
            "text/plain": [
              "   member_id  loan_amnt  ...  tot_cur_bal total_rev_hi_lim\n",
              "0   11937648      14000  ...      85230.0          45700.0\n",
              "1   38983318      16000  ...     444991.0          21400.0\n",
              "2   27999917      11050  ...     105737.0          16300.0\n",
              "3   61514932      35000  ...     287022.0          72400.0\n",
              "4   59622821       6500  ...     234278.0          26700.0\n",
              "\n",
              "[5 rows x 15 columns]"
            ]
          },
          "metadata": {
            "tags": []
          },
          "execution_count": 35
        }
      ]
    },
    {
      "cell_type": "code",
      "metadata": {
        "colab": {
          "base_uri": "https://localhost:8080/"
        },
        "id": "N6jsUhsto8G7",
        "outputId": "fad73c64-8ce1-4672-ab8a-43c2e0c276dc"
      },
      "source": [
        "test['home_ownership'] = labelencoder.fit_transform(test['home_ownership'])\n",
        "test['purpose'] = labelencoder.fit_transform(test['purpose'])\n",
        "test['addr_state'] = labelencoder.fit_transform(test['addr_state'])\n",
        "test['application_type'] = labelencoder.fit_transform(test['application_type'])"
      ],
      "execution_count": 36,
      "outputs": [
        {
          "output_type": "stream",
          "text": [
            "/usr/local/lib/python3.7/dist-packages/ipykernel_launcher.py:1: SettingWithCopyWarning: \n",
            "A value is trying to be set on a copy of a slice from a DataFrame.\n",
            "Try using .loc[row_indexer,col_indexer] = value instead\n",
            "\n",
            "See the caveats in the documentation: https://pandas.pydata.org/pandas-docs/stable/user_guide/indexing.html#returning-a-view-versus-a-copy\n",
            "  \"\"\"Entry point for launching an IPython kernel.\n",
            "/usr/local/lib/python3.7/dist-packages/ipykernel_launcher.py:2: SettingWithCopyWarning: \n",
            "A value is trying to be set on a copy of a slice from a DataFrame.\n",
            "Try using .loc[row_indexer,col_indexer] = value instead\n",
            "\n",
            "See the caveats in the documentation: https://pandas.pydata.org/pandas-docs/stable/user_guide/indexing.html#returning-a-view-versus-a-copy\n",
            "  \n",
            "/usr/local/lib/python3.7/dist-packages/ipykernel_launcher.py:3: SettingWithCopyWarning: \n",
            "A value is trying to be set on a copy of a slice from a DataFrame.\n",
            "Try using .loc[row_indexer,col_indexer] = value instead\n",
            "\n",
            "See the caveats in the documentation: https://pandas.pydata.org/pandas-docs/stable/user_guide/indexing.html#returning-a-view-versus-a-copy\n",
            "  This is separate from the ipykernel package so we can avoid doing imports until\n",
            "/usr/local/lib/python3.7/dist-packages/ipykernel_launcher.py:4: SettingWithCopyWarning: \n",
            "A value is trying to be set on a copy of a slice from a DataFrame.\n",
            "Try using .loc[row_indexer,col_indexer] = value instead\n",
            "\n",
            "See the caveats in the documentation: https://pandas.pydata.org/pandas-docs/stable/user_guide/indexing.html#returning-a-view-versus-a-copy\n",
            "  after removing the cwd from sys.path.\n"
          ],
          "name": "stderr"
        }
      ]
    },
    {
      "cell_type": "code",
      "metadata": {
        "id": "9PDgUANEJr0I"
      },
      "source": [
        "test = test.dropna()"
      ],
      "execution_count": 37,
      "outputs": []
    },
    {
      "cell_type": "code",
      "metadata": {
        "colab": {
          "base_uri": "https://localhost:8080/",
          "height": 204
        },
        "id": "69VW6gBJpc4R",
        "outputId": "3e674b65-23c6-4bf7-cf8a-a0b2a2802719"
      },
      "source": [
        "test.head()"
      ],
      "execution_count": 29,
      "outputs": [
        {
          "output_type": "execute_result",
          "data": {
            "text/html": [
              "<div>\n",
              "<style scoped>\n",
              "    .dataframe tbody tr th:only-of-type {\n",
              "        vertical-align: middle;\n",
              "    }\n",
              "\n",
              "    .dataframe tbody tr th {\n",
              "        vertical-align: top;\n",
              "    }\n",
              "\n",
              "    .dataframe thead th {\n",
              "        text-align: right;\n",
              "    }\n",
              "</style>\n",
              "<table border=\"1\" class=\"dataframe\">\n",
              "  <thead>\n",
              "    <tr style=\"text-align: right;\">\n",
              "      <th></th>\n",
              "      <th>loan_amnt</th>\n",
              "      <th>int_rate</th>\n",
              "      <th>home_ownership</th>\n",
              "      <th>annual_inc</th>\n",
              "      <th>purpose</th>\n",
              "      <th>dti</th>\n",
              "      <th>addr_state</th>\n",
              "      <th>revol_util</th>\n",
              "      <th>revol_bal</th>\n",
              "      <th>total_acc</th>\n",
              "      <th>total_rec_int</th>\n",
              "      <th>application_type</th>\n",
              "      <th>tot_cur_bal</th>\n",
              "      <th>total_rev_hi_lim</th>\n",
              "    </tr>\n",
              "  </thead>\n",
              "  <tbody>\n",
              "    <tr>\n",
              "      <th>0</th>\n",
              "      <td>14000</td>\n",
              "      <td>16.24</td>\n",
              "      <td>4</td>\n",
              "      <td>73500.0</td>\n",
              "      <td>1</td>\n",
              "      <td>28.65</td>\n",
              "      <td>35</td>\n",
              "      <td>65.3</td>\n",
              "      <td>29828</td>\n",
              "      <td>53.0</td>\n",
              "      <td>3915.61</td>\n",
              "      <td>0</td>\n",
              "      <td>85230.0</td>\n",
              "      <td>45700.0</td>\n",
              "    </tr>\n",
              "    <tr>\n",
              "      <th>1</th>\n",
              "      <td>16000</td>\n",
              "      <td>9.49</td>\n",
              "      <td>0</td>\n",
              "      <td>105000.0</td>\n",
              "      <td>6</td>\n",
              "      <td>31.19</td>\n",
              "      <td>27</td>\n",
              "      <td>19.4</td>\n",
              "      <td>4161</td>\n",
              "      <td>63.0</td>\n",
              "      <td>1495.06</td>\n",
              "      <td>0</td>\n",
              "      <td>444991.0</td>\n",
              "      <td>21400.0</td>\n",
              "    </tr>\n",
              "    <tr>\n",
              "      <th>2</th>\n",
              "      <td>11050</td>\n",
              "      <td>15.61</td>\n",
              "      <td>4</td>\n",
              "      <td>62300.0</td>\n",
              "      <td>2</td>\n",
              "      <td>21.73</td>\n",
              "      <td>16</td>\n",
              "      <td>74.0</td>\n",
              "      <td>12064</td>\n",
              "      <td>20.0</td>\n",
              "      <td>2096.21</td>\n",
              "      <td>0</td>\n",
              "      <td>105737.0</td>\n",
              "      <td>16300.0</td>\n",
              "    </tr>\n",
              "    <tr>\n",
              "      <th>3</th>\n",
              "      <td>35000</td>\n",
              "      <td>12.69</td>\n",
              "      <td>3</td>\n",
              "      <td>150000.0</td>\n",
              "      <td>2</td>\n",
              "      <td>17.27</td>\n",
              "      <td>4</td>\n",
              "      <td>45.0</td>\n",
              "      <td>32549</td>\n",
              "      <td>26.0</td>\n",
              "      <td>1756.31</td>\n",
              "      <td>0</td>\n",
              "      <td>287022.0</td>\n",
              "      <td>72400.0</td>\n",
              "    </tr>\n",
              "    <tr>\n",
              "      <th>4</th>\n",
              "      <td>6500</td>\n",
              "      <td>6.89</td>\n",
              "      <td>0</td>\n",
              "      <td>52000.0</td>\n",
              "      <td>6</td>\n",
              "      <td>20.19</td>\n",
              "      <td>18</td>\n",
              "      <td>19.2</td>\n",
              "      <td>5133</td>\n",
              "      <td>36.0</td>\n",
              "      <td>172.21</td>\n",
              "      <td>0</td>\n",
              "      <td>234278.0</td>\n",
              "      <td>26700.0</td>\n",
              "    </tr>\n",
              "  </tbody>\n",
              "</table>\n",
              "</div>"
            ],
            "text/plain": [
              "   loan_amnt  int_rate  ...  tot_cur_bal  total_rev_hi_lim\n",
              "0      14000     16.24  ...      85230.0           45700.0\n",
              "1      16000      9.49  ...     444991.0           21400.0\n",
              "2      11050     15.61  ...     105737.0           16300.0\n",
              "3      35000     12.69  ...     287022.0           72400.0\n",
              "4       6500      6.89  ...     234278.0           26700.0\n",
              "\n",
              "[5 rows x 14 columns]"
            ]
          },
          "metadata": {
            "tags": []
          },
          "execution_count": 29
        }
      ]
    },
    {
      "cell_type": "code",
      "metadata": {
        "id": "inxKygwnwxWy"
      },
      "source": [
        "from sklearn.linear_model import LogisticRegression"
      ],
      "execution_count": 30,
      "outputs": []
    },
    {
      "cell_type": "code",
      "metadata": {
        "colab": {
          "base_uri": "https://localhost:8080/"
        },
        "id": "8HyBsYJKvrib",
        "outputId": "ea3e7a78-366a-472f-ad60-e79d540bd666"
      },
      "source": [
        "lr = LogisticRegression()\n",
        "lr.fit(x_train, y_train)"
      ],
      "execution_count": 31,
      "outputs": [
        {
          "output_type": "stream",
          "text": [
            "/usr/local/lib/python3.7/dist-packages/sklearn/utils/validation.py:760: DataConversionWarning: A column-vector y was passed when a 1d array was expected. Please change the shape of y to (n_samples, ), for example using ravel().\n",
            "  y = column_or_1d(y, warn=True)\n",
            "/usr/local/lib/python3.7/dist-packages/sklearn/linear_model/_logistic.py:940: ConvergenceWarning: lbfgs failed to converge (status=1):\n",
            "STOP: TOTAL NO. of ITERATIONS REACHED LIMIT.\n",
            "\n",
            "Increase the number of iterations (max_iter) or scale the data as shown in:\n",
            "    https://scikit-learn.org/stable/modules/preprocessing.html\n",
            "Please also refer to the documentation for alternative solver options:\n",
            "    https://scikit-learn.org/stable/modules/linear_model.html#logistic-regression\n",
            "  extra_warning_msg=_LOGISTIC_SOLVER_CONVERGENCE_MSG)\n"
          ],
          "name": "stderr"
        },
        {
          "output_type": "execute_result",
          "data": {
            "text/plain": [
              "LogisticRegression(C=1.0, class_weight=None, dual=False, fit_intercept=True,\n",
              "                   intercept_scaling=1, l1_ratio=None, max_iter=100,\n",
              "                   multi_class='auto', n_jobs=None, penalty='l2',\n",
              "                   random_state=None, solver='lbfgs', tol=0.0001, verbose=0,\n",
              "                   warm_start=False)"
            ]
          },
          "metadata": {
            "tags": []
          },
          "execution_count": 31
        }
      ]
    },
    {
      "cell_type": "code",
      "metadata": {
        "colab": {
          "base_uri": "https://localhost:8080/"
        },
        "id": "f5bT42bzxAV4",
        "outputId": "8701c6d8-fc5a-4d93-9a59-33c64a8688a9"
      },
      "source": [
        "from sklearn.metrics import accuracy_score\n",
        "from sklearn.metrics import precision_recall_fscore_support as score\n",
        "y_pred = lr.predict(x_val)\n",
        "print(\"LR accuracy\",accuracy_score(y_val, y_pred))"
      ],
      "execution_count": 32,
      "outputs": [
        {
          "output_type": "stream",
          "text": [
            "LR accuracy 0.8179755266646482\n"
          ],
          "name": "stdout"
        }
      ]
    },
    {
      "cell_type": "code",
      "metadata": {
        "colab": {
          "base_uri": "https://localhost:8080/"
        },
        "id": "NFNrshix7lMI",
        "outputId": "cbf3728d-3530-400b-9ba9-b1a91af3e2f1"
      },
      "source": [
        "precision, recall, fscore, support = score(y_val, y_pred)\n",
        "\n",
        "print('precision: {}'.format(precision))\n",
        "print('recall: {}'.format(recall))\n",
        "print('fscore: {}'.format(fscore))\n",
        "print('support: {}'.format(support))"
      ],
      "execution_count": 33,
      "outputs": [
        {
          "output_type": "stream",
          "text": [
            "precision: [0.82120812 0.66690052]\n",
            "recall: [0.9913955  0.07391338]\n",
            "fscore: [0.89831227 0.13307761]\n",
            "support: [275902  64305]\n"
          ],
          "name": "stdout"
        }
      ]
    },
    {
      "cell_type": "code",
      "metadata": {
        "id": "skzm6s8qKTg1"
      },
      "source": [
        "pred = lr.predict(test)"
      ],
      "execution_count": 38,
      "outputs": []
    },
    {
      "cell_type": "code",
      "metadata": {
        "colab": {
          "base_uri": "https://localhost:8080/"
        },
        "id": "pXL96GFJKuvm",
        "outputId": "44a6b0ba-a61c-4670-a9fc-d02e9138b87e"
      },
      "source": [
        "# pred = pred.tolist()\n",
        "len(pred)\n",
        "print(pred[10])"
      ],
      "execution_count": 42,
      "outputs": [
        {
          "output_type": "stream",
          "text": [
            "0\n"
          ],
          "name": "stdout"
        }
      ]
    },
    {
      "cell_type": "code",
      "metadata": {
        "colab": {
          "base_uri": "https://localhost:8080/"
        },
        "id": "31sh_qsfLGod",
        "outputId": "ec5b3c52-4e46-4074-fad5-74979b7c00a9"
      },
      "source": [
        "mem_id = test['member_id'].tolist()\n",
        "len(mem_id)"
      ],
      "execution_count": 40,
      "outputs": [
        {
          "output_type": "execute_result",
          "data": {
            "text/plain": [
              "326515"
            ]
          },
          "metadata": {
            "tags": []
          },
          "execution_count": 40
        }
      ]
    },
    {
      "cell_type": "code",
      "metadata": {
        "id": "j3DjMGfFLUZN"
      },
      "source": [
        "sub = pd.DataFrame()\n",
        "sub['member_id'] = mem_id\n",
        "sub['loan_status'] = pred\n",
        "sub.to_csv('submission.csv', index=False)"
      ],
      "execution_count": 43,
      "outputs": []
    },
    {
      "cell_type": "code",
      "metadata": {
        "id": "F5YP_QwdMi0f"
      },
      "source": [
        ""
      ],
      "execution_count": null,
      "outputs": []
    }
  ]
}